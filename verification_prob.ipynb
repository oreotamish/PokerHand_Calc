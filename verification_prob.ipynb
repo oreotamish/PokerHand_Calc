{
 "cells": [
  {
   "cell_type": "code",
   "execution_count": 33,
   "metadata": {},
   "outputs": [],
   "source": [
    "import random\n",
    "from collections import Counter\n"
   ]
  },
  {
   "cell_type": "markdown",
   "metadata": {},
   "source": [
    "Create an array of possible decks:"
   ]
  },
  {
   "cell_type": "code",
   "execution_count": 34,
   "metadata": {},
   "outputs": [
    {
     "data": {
      "text/plain": [
       "[('Ace', 'Clubs'),\n",
       " ('Ace', 'Spades'),\n",
       " ('Ace', 'Hearts'),\n",
       " ('Ace', 'Diamonds'),\n",
       " ('Two', 'Clubs'),\n",
       " ('Two', 'Spades'),\n",
       " ('Two', 'Hearts'),\n",
       " ('Two', 'Diamonds'),\n",
       " ('Three', 'Clubs'),\n",
       " ('Three', 'Spades'),\n",
       " ('Three', 'Hearts'),\n",
       " ('Three', 'Diamonds'),\n",
       " ('Four', 'Clubs'),\n",
       " ('Four', 'Spades'),\n",
       " ('Four', 'Hearts'),\n",
       " ('Four', 'Diamonds'),\n",
       " ('Five', 'Clubs'),\n",
       " ('Five', 'Spades'),\n",
       " ('Five', 'Hearts'),\n",
       " ('Five', 'Diamonds'),\n",
       " ('Six', 'Clubs'),\n",
       " ('Six', 'Spades'),\n",
       " ('Six', 'Hearts'),\n",
       " ('Six', 'Diamonds'),\n",
       " ('Seven', 'Clubs'),\n",
       " ('Seven', 'Spades'),\n",
       " ('Seven', 'Hearts'),\n",
       " ('Seven', 'Diamonds'),\n",
       " ('Eight', 'Clubs'),\n",
       " ('Eight', 'Spades'),\n",
       " ('Eight', 'Hearts'),\n",
       " ('Eight', 'Diamonds'),\n",
       " ('Nine', 'Clubs'),\n",
       " ('Nine', 'Spades'),\n",
       " ('Nine', 'Hearts'),\n",
       " ('Nine', 'Diamonds'),\n",
       " ('Ten', 'Clubs'),\n",
       " ('Ten', 'Spades'),\n",
       " ('Ten', 'Hearts'),\n",
       " ('Ten', 'Diamonds'),\n",
       " ('J', 'Clubs'),\n",
       " ('J', 'Spades'),\n",
       " ('J', 'Hearts'),\n",
       " ('J', 'Diamonds'),\n",
       " ('Q', 'Clubs'),\n",
       " ('Q', 'Spades'),\n",
       " ('Q', 'Hearts'),\n",
       " ('Q', 'Diamonds'),\n",
       " ('K', 'Clubs'),\n",
       " ('K', 'Spades'),\n",
       " ('K', 'Hearts'),\n",
       " ('K', 'Diamonds')]"
      ]
     },
     "execution_count": 34,
     "metadata": {},
     "output_type": "execute_result"
    }
   ],
   "source": [
    "ranks = ['Ace', 'Two', 'Three', 'Four', 'Five', 'Six', 'Seven', 'Eight', 'Nine', 'Ten', 'J', 'Q', 'K']\n",
    "suits = ['Clubs', 'Spades', 'Hearts', 'Diamonds']\n",
    "deck = []\n",
    "for rank in ranks:\n",
    "    for suit in suits:\n",
    "        deck.append((rank, suit))\n",
    "\n",
    "deck "
   ]
  },
  {
   "cell_type": "markdown",
   "metadata": {},
   "source": [
    "We need to now shuffle the deck"
   ]
  },
  {
   "cell_type": "code",
   "execution_count": 35,
   "metadata": {},
   "outputs": [
    {
     "data": {
      "text/plain": [
       "[('Eight', 'Spades'),\n",
       " ('Seven', 'Diamonds'),\n",
       " ('Ten', 'Clubs'),\n",
       " ('Six', 'Diamonds'),\n",
       " ('Four', 'Diamonds'),\n",
       " ('Q', 'Hearts'),\n",
       " ('Nine', 'Hearts'),\n",
       " ('K', 'Clubs'),\n",
       " ('Three', 'Clubs'),\n",
       " ('K', 'Diamonds'),\n",
       " ('Eight', 'Diamonds'),\n",
       " ('J', 'Diamonds'),\n",
       " ('Ace', 'Diamonds'),\n",
       " ('Six', 'Clubs'),\n",
       " ('Two', 'Diamonds'),\n",
       " ('Ace', 'Spades'),\n",
       " ('Four', 'Clubs'),\n",
       " ('Six', 'Hearts'),\n",
       " ('Seven', 'Hearts'),\n",
       " ('Three', 'Spades'),\n",
       " ('K', 'Hearts'),\n",
       " ('Two', 'Hearts'),\n",
       " ('Eight', 'Hearts'),\n",
       " ('Two', 'Clubs'),\n",
       " ('Q', 'Diamonds'),\n",
       " ('Q', 'Clubs'),\n",
       " ('Ace', 'Clubs'),\n",
       " ('Nine', 'Spades'),\n",
       " ('Five', 'Spades'),\n",
       " ('Seven', 'Clubs'),\n",
       " ('Seven', 'Spades'),\n",
       " ('Three', 'Diamonds'),\n",
       " ('Four', 'Hearts'),\n",
       " ('Four', 'Spades'),\n",
       " ('Five', 'Diamonds'),\n",
       " ('Nine', 'Diamonds'),\n",
       " ('Three', 'Hearts'),\n",
       " ('Six', 'Spades'),\n",
       " ('Ten', 'Spades'),\n",
       " ('Eight', 'Clubs'),\n",
       " ('J', 'Clubs'),\n",
       " ('Five', 'Clubs'),\n",
       " ('Ten', 'Diamonds'),\n",
       " ('Q', 'Spades'),\n",
       " ('Nine', 'Clubs'),\n",
       " ('Ten', 'Hearts'),\n",
       " ('J', 'Hearts'),\n",
       " ('J', 'Spades'),\n",
       " ('Two', 'Spades'),\n",
       " ('Ace', 'Hearts'),\n",
       " ('Five', 'Hearts'),\n",
       " ('K', 'Spades')]"
      ]
     },
     "execution_count": 35,
     "metadata": {},
     "output_type": "execute_result"
    }
   ],
   "source": [
    "def shuffle_deck():\n",
    "    deck_copy = deck.copy()\n",
    "    shuffled_deck = [] \n",
    "    for i in range(len(deck)):\n",
    "        random_card = random.choice(deck_copy)\n",
    "        shuffled_deck.append(random_card)\n",
    "        deck_copy.remove(random_card)\n",
    "    return shuffled_deck\n",
    "\n",
    "shuffled_deck = shuffle_deck()\n",
    "shuffled_deck"
   ]
  },
  {
   "cell_type": "markdown",
   "metadata": {},
   "source": [
    "Creating a function which takes number of cards to be dealt with as parameter"
   ]
  },
  {
   "cell_type": "code",
   "execution_count": 36,
   "metadata": {},
   "outputs": [
    {
     "data": {
      "text/plain": [
       "[('Nine', 'Spades'),\n",
       " ('Q', 'Clubs'),\n",
       " ('Six', 'Clubs'),\n",
       " ('Nine', 'Hearts'),\n",
       " ('Six', 'Hearts')]"
      ]
     },
     "execution_count": 36,
     "metadata": {},
     "output_type": "execute_result"
    }
   ],
   "source": [
    "def deal_N_cards(num_cards):\n",
    "    shuffled_deck = shuffle_deck()\n",
    "    drawn_cards = []\n",
    "    for i in range(num_cards):\n",
    "        drawn_card = random.choice(shuffled_deck)\n",
    "        drawn_cards.append(drawn_card)\n",
    "        shuffled_deck.remove(drawn_card)\n",
    "    return drawn_cards\n",
    "\n",
    "my_cards = deal_N_cards(5)\n",
    "my_cards"
   ]
  },
  {
   "cell_type": "markdown",
   "metadata": {},
   "source": [
    "Check One Pair Now:\n",
    "returns dictionary with value count of each rank on hand"
   ]
  },
  {
   "cell_type": "code",
   "execution_count": 37,
   "metadata": {},
   "outputs": [
    {
     "name": "stdout",
     "output_type": "stream",
     "text": [
      "Theoretical Probability of holding a Pair: 42.25 %\n",
      "Expected Probability to hold a pair 49.0 %\n",
      "% Deviation from theoretical value 6.75 %\n"
     ]
    }
   ],
   "source": [
    "def check_one_pair(hand):\n",
    "    ranks = [i[0] for i in hand]\n",
    "    value_counts = {}\n",
    "    for rank in ranks:\n",
    "        if rank not in value_counts.keys():\n",
    "            value_counts[rank] = 1\n",
    "        else:\n",
    "            value_counts[rank] += 1\n",
    "    return list(value_counts.values()).count(2) == 1 #will return true if any one key has value of 2\n",
    "            \n",
    "num_trials = 100\n",
    "successes = [check_one_pair(deal_N_cards(5)) for i in range(num_trials)] #creating array to count number of successes\n",
    "exp_probability = sum(successes)/len(successes)\n",
    "theo_probability = 0.4225\n",
    "print(\"Theoretical Probability of holding a Pair:\", theo_probability*100, \"%\")\n",
    "print(\"Expected Probability to hold a pair\",exp_probability*100,\"%\")\n",
    "print(\"% Deviation from theoretical value\", \"%0.2f\" % ((sum((abs(theo_probability - exp_probability) for i in range(100)))/100)*100), \"%\")\n"
   ]
  },
  {
   "cell_type": "markdown",
   "metadata": {},
   "source": [
    "Theoretical Value of probability of holding a pair\n",
    "if dealt a 5-card hand is:\n"
   ]
  },
  {
   "cell_type": "code",
   "execution_count": 38,
   "metadata": {},
   "outputs": [
    {
     "data": {
      "image/png": "[encoded data removed]",
      "text/plain": [
       "<IPython.core.display.Image object>"
      ]
     },
     "execution_count": 38,
     "metadata": {},
     "output_type": "execute_result"
    }
   ],
   "source": [
    "from IPython import display\n",
    "display.Image(\"D:\\Analysing_Stock_Prices\\image.png.png\")"
   ]
  },
  {
   "cell_type": "markdown",
   "metadata": {},
   "source": [
    "Check for Two Pair now:"
   ]
  },
  {
   "cell_type": "code",
   "execution_count": 39,
   "metadata": {},
   "outputs": [
    {
     "name": "stdout",
     "output_type": "stream",
     "text": [
      "Theoretical Probability of holding Two Pairs: 4.753 %\n",
      "Expected Probability to hold Two pairs: 4.60 %\n",
      "% Deviation from theoretical value: 4.55 %\n"
     ]
    }
   ],
   "source": [
    "def check_two_pair(hand):\n",
    "    ranks = [i[0] for i in hand]\n",
    "    value_counts = {}\n",
    "    for rank in ranks:\n",
    "        if rank not in value_counts.keys():\n",
    "            value_counts[rank] = 1\n",
    "        else:\n",
    "            value_counts[rank] += 1\n",
    "    return list(value_counts.values()).count(2) == 2 #will return true if any one key has value of 2\n",
    "            \n",
    "num_trials = 1000\n",
    "successes = [check_two_pair(deal_N_cards(5)) for i in range(num_trials)] #creating array to count number of successes\n",
    "exp_probability = (sum(successes)/len(successes))*100\n",
    "theo_probability = 0.04753\n",
    "print(\"Theoretical Probability of holding Two Pairs:\", theo_probability*100, \"%\")\n",
    "print(\"Expected Probability to hold Two pairs:\",\"%0.2f\" %exp_probability,\"%\")\n",
    "print(\"% Deviation from theoretical value:\", \"%0.2f\" % ((sum((abs(theo_probability - exp_probability) for i in range(100)))/100)), \"%\")\n"
   ]
  },
  {
   "cell_type": "code",
   "execution_count": 40,
   "metadata": {},
   "outputs": [
    {
     "data": {
      "image/png": "[encoded data removed]",
      "text/plain": [
       "<IPython.core.display.Image object>"
      ]
     },
     "execution_count": 40,
     "metadata": {},
     "output_type": "execute_result"
    }
   ],
   "source": [
    "from IPython import display\n",
    "display.Image(\"D:/Analysing_Stock_Prices/ke2.png\")"
   ]
  },
  {
   "cell_type": "markdown",
   "metadata": {},
   "source": [
    "Theoretical value of probability of holding Two Pair\n",
    "if dealt a 5-card hand is"
   ]
  },
  {
   "cell_type": "markdown",
   "metadata": {},
   "source": [
    "Check for Three of a Kind now:\n"
   ]
  },
  {
   "cell_type": "code",
   "execution_count": 41,
   "metadata": {},
   "outputs": [
    {
     "name": "stdout",
     "output_type": "stream",
     "text": [
      "Theoretical Probability of holding a Three of a Kind: 2.11 %\n",
      "Expected Probability to hold Three of a kind: 3.00 %\n",
      "% Deviation from theoretical value: 4.58 %\n"
     ]
    }
   ],
   "source": [
    "num_trials = 1000\n",
    "\n",
    "def three_of_a_kind(hand):\n",
    "    three_kind = 0\n",
    "    for i in range(num_trials):\n",
    "        hand = deal_N_cards(5)\n",
    "        if any(v==3 for k,v in Counter(card[0] for card in hand).items()):\n",
    "               three_kind += 1\n",
    "    return three_kind\n",
    "\n",
    "theo_probability = \t0.0211\n",
    "print(\"Theoretical Probability of holding a Three of a Kind:\", theo_probability*100, \"%\")\n",
    "print(\"Expected Probability to hold Three of a kind:\",\"%0.2f\" %(three_of_a_kind(deal_N_cards(5))/num_trials*100),\"%\")\n",
    "print(\"% Deviation from theoretical value:\", \"%0.2f\" % ((sum((abs(theo_probability - exp_probability) for i in range(100)))/100)), \"%\")\n",
    "\n",
    "# successes = [three_of_a_kind(deal_N_cards(5)) for i in range(num_trials)]\n",
    "# exp_probability = (sum(successes)/len(successes))\n",
    "# print(exp_probability, \"%\")"
   ]
  },
  {
   "cell_type": "code",
   "execution_count": 42,
   "metadata": {},
   "outputs": [
    {
     "data": {
      "image/png": "[encoded data removed]",
      "text/plain": [
       "<IPython.core.display.Image object>"
      ]
     },
     "execution_count": 42,
     "metadata": {},
     "output_type": "execute_result"
    }
   ],
   "source": [
    "from IPython import display\n",
    "display.Image(\"D:\\Analysing_Stock_Prices\\krnl.png\")"
   ]
  },
  {
   "cell_type": "markdown",
   "metadata": {},
   "source": [
    "Theoretical Value of probability of holding Three of a Kind\n",
    "\n",
    "if dealt a 5-card hand is:"
   ]
  },
  {
   "cell_type": "code",
   "execution_count": null,
   "metadata": {},
   "outputs": [],
   "source": [
    "import cython, pprint\n",
    "from eval7 import equity\n",
    "deck = eval7.Deck()\n",
    "deck.shuffle()\n",
    "hand = deck.deal(7)\n",
    "pprint.pprint(hand)\n",
    "eval7.evaluate(hand)\n",
    "eval7.handtype(eval7.evaluate(hand))\n",
    "\n"
   ]
  },
  {
   "cell_type": "markdown",
   "metadata": {},
   "source": [
    "Evaluate input Hand"
   ]
  },
  {
   "cell_type": "code",
   "execution_count": 153,
   "metadata": {},
   "outputs": [
    {
     "name": "stdout",
     "output_type": "stream",
     "text": [
      "('3d', '5d', '6s', '7d')\n"
     ]
    },
    {
     "data": {
      "text/plain": [
       "'High Card'"
      ]
     },
     "execution_count": 153,
     "metadata": {},
     "output_type": "execute_result"
    }
   ],
   "source": [
    "xx = tuple((input()).split())\n",
    "print(xx)\n",
    "hand = [eval7.Card(s) for s in xx]\n",
    "eval7.evaluate(hand)\n",
    "eval7.handtype(eval7.evaluate(hand))"
   ]
  }
 ],
 "metadata": {
  "kernelspec": {
   "display_name": "Python 3.10.6 64-bit",
   "language": "python",
   "name": "python3"
  },
  "language_info": {
   "codemirror_mode": {
    "name": "ipython",
    "version": 3
   },
   "file_extension": ".py",
   "mimetype": "text/x-python",
   "name": "python",
   "nbconvert_exporter": "python",
   "pygments_lexer": "ipython3",
   "version": "3.10.6"
  },
  "orig_nbformat": 4,
  "vscode": {
   "interpreter": {
    "hash": "a054b04cc465f06f4b7a29cb78ca1e47d0ddc4e4fc8da7bb7af5045e7a84ef6d"
   }
  }
 },
 "nbformat": 4,
 "nbformat_minor": 2
}
